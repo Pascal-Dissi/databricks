{
 "cells": [
  {
   "cell_type": "code",
   "execution_count": 0,
   "metadata": {
    "application/vnd.databricks.v1+cell": {
     "cellMetadata": {
      "byteLimit": 2048000,
      "rowLimit": 10000
     },
     "inputWidgets": {},
     "nuid": "7c2c9ed6-e88c-435c-988d-af8bf0f9cb0b",
     "showTitle": false,
     "tableResultSettingsMap": {},
     "title": ""
    }
   },
   "outputs": [],
   "source": [
    "#/Volumes/workspace/default/volume_files/transactions.snappy.parquet\n",
    "df = spark.read.parquet(\"/Volumes/workspace/default/volume_files/transactions.snappy.parquet\")\n",
    "display(df)"
   ]
  },
  {
   "cell_type": "code",
   "execution_count": 0,
   "metadata": {
    "application/vnd.databricks.v1+cell": {
     "cellMetadata": {
      "byteLimit": 2048000,
      "rowLimit": 10000
     },
     "inputWidgets": {},
     "nuid": "7cc01d32-a582-41d4-876b-4265379e38b8",
     "showTitle": false,
     "tableResultSettingsMap": {},
     "title": ""
    }
   },
   "outputs": [],
   "source": [
    "from pyspark.sql.types import *\n",
    "\n",
    "schema = StructType([\n",
    "  StructField(\"transaction_id\", StringType(), True),\n",
    "  StructField(\"customer_id\", IntegerType(), True),\n",
    "  StructField(\"product_id\", IntegerType(), True),\n",
    "  StructField(\"quantity\", IntegerType(), True),\n",
    "  StructField(\"total_amount\", DoubleType(), True),\n",
    "  StructField(\"transaction_date\", StringType(), True),\n",
    "  StructField(\"payment_method\", StringType(), True),\n",
    "  StructField(\"store_type\", StringType(), True),\n",
    "  StructField(\"ingestion_timestamp\", TimestampType(), True)\n",
    "])\n",
    "df1 = spark.read.schema(schema).parquet(\"/Volumes/workspace/default/volume_files/transactions.snappy.parquet\")\n"
   ]
  }
 ],
 "metadata": {
  "application/vnd.databricks.v1+notebook": {
   "computePreferences": null,
   "dashboards": [],
   "environmentMetadata": {
    "base_environment": "",
    "environment_version": "2"
   },
   "inputWidgetPreferences": null,
   "language": "python",
   "notebookMetadata": {
    "pythonIndentUnit": 4
   },
   "notebookName": "transaction-analysis",
   "widgets": {}
  },
  "language_info": {
   "name": "python"
  }
 },
 "nbformat": 4,
 "nbformat_minor": 0
}
